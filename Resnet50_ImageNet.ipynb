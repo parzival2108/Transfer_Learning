{
 "cells": [
  {
   "cell_type": "code",
   "execution_count": 79,
   "id": "1f8f5761",
   "metadata": {},
   "outputs": [],
   "source": [
    "from tensorflow.keras.models import load_model\n",
    "import numpy as np\n",
    "import os, re, time, json\n",
    "from PIL import Image\n",
    "from matplotlib import pyplot as plt\n",
    "from tensorflow.keras.preprocessing import image\n",
    "from tensorflow.keras.applications import ResNet50\n",
    "from tensorflow.keras.preprocessing.image import load_img\n",
    "from tensorflow.keras.preprocessing.image import img_to_array\n",
    "from tensorflow.keras.applications.resnet50 import preprocess_input,decode_predictions"
   ]
  },
  {
   "cell_type": "markdown",
   "id": "b4b60930",
   "metadata": {},
   "source": [
    "# Model Architecture"
   ]
  },
  {
   "cell_type": "code",
   "execution_count": 2,
   "id": "3755cd33",
   "metadata": {},
   "outputs": [],
   "source": [
    "model = ResNet50(weights=\"imagenet\")"
   ]
  },
  {
   "cell_type": "markdown",
   "id": "f6627ad0",
   "metadata": {},
   "source": [
    "# Test Data"
   ]
  },
  {
   "cell_type": "markdown",
   "id": "953a60c5",
   "metadata": {},
   "source": [
    "### Demyrsus_digmon"
   ]
  },
  {
   "cell_type": "code",
   "execution_count": 5,
   "id": "fe839a55",
   "metadata": {},
   "outputs": [],
   "source": [
    "Demyrsus_digmon_file = os.listdir('./Demyrsus digmon')"
   ]
  },
  {
   "cell_type": "code",
   "execution_count": 7,
   "id": "cb560b9c",
   "metadata": {},
   "outputs": [],
   "source": [
    "Demyrsus_digmon_file = Demyrsus_digmon_file[1:]"
   ]
  },
  {
   "cell_type": "code",
   "execution_count": 16,
   "id": "48af3ce5",
   "metadata": {},
   "outputs": [],
   "source": [
    "Demyrsus_digmon_images = []\n",
    "for names in Demyrsus_digmon_file:\n",
    "    Demyrsus_digmon_images.append(image.load_img(\"Demyrsus digmon/\"+names, target_size = (224,224)))\n",
    "    \n",
    "    "
   ]
  },
  {
   "cell_type": "code",
   "execution_count": 21,
   "id": "47dc40ed",
   "metadata": {},
   "outputs": [
    {
     "data": {
      "text/plain": [
       "29"
      ]
     },
     "execution_count": 21,
     "metadata": {},
     "output_type": "execute_result"
    }
   ],
   "source": [
    "len(Demyrsus_digmon_images)"
   ]
  },
  {
   "cell_type": "code",
   "execution_count": 314,
   "id": "dee90234",
   "metadata": {},
   "outputs": [],
   "source": [
    "Demyrsus_Digmon_Predictions = []\n",
    "for i in range(len(Demyrsus_digmon_images)):\n",
    "    Demyrsus_digmon = image.img_to_array(Demyrsus_digmon_images[i])\n",
    "    Demyrsus_digmon = preprocess_input(Demyrsus_digmon[np.newaxis,...])\n",
    "    Demyrsus_digmon_predictions = model.predict(Demyrsus_digmon)\n",
    "    Demyrsus_digmon_decodes = decode_predictions(Demyrsus_digmon_predictions, top = 1)\n",
    "    Demyrsus_Digmon_Predictions.append(Demyrsus_digmon_decodes[0][0][1:])\n",
    "Demyrsus_Digmon_Predictions.sort(key = lambda x: x[1], reverse= True)\n",
    "    "
   ]
  },
  {
   "cell_type": "code",
   "execution_count": 318,
   "id": "86c54506",
   "metadata": {},
   "outputs": [
    {
     "data": {
      "text/plain": [
       "[('weevil', 0.9997404),\n",
       " ('weevil', 0.9996294),\n",
       " ('weevil', 0.9972874),\n",
       " ('weevil', 0.9967181),\n",
       " ('weevil', 0.9893355),\n",
       " ('weevil', 0.98905575),\n",
       " ('weevil', 0.9825717),\n",
       " ('weevil', 0.9793747),\n",
       " ('weevil', 0.9680595),\n",
       " ('weevil', 0.95315117),\n",
       " ('weevil', 0.91435677),\n",
       " ('weevil', 0.9010325),\n",
       " ('weevil', 0.8692903),\n",
       " ('weevil', 0.86742276),\n",
       " ('weevil', 0.81367624),\n",
       " ('leatherback_turtle', 0.5953634),\n",
       " ('weevil', 0.59356856),\n",
       " ('weevil', 0.49980566),\n",
       " ('dung_beetle', 0.45434904),\n",
       " ('teddy', 0.45369607),\n",
       " ('weevil', 0.43761018),\n",
       " ('teddy', 0.40764806),\n",
       " ('teddy', 0.40764806),\n",
       " ('weevil', 0.37219036),\n",
       " ('teapot', 0.28390607),\n",
       " ('weevil', 0.2785436),\n",
       " ('dung_beetle', 0.27730185),\n",
       " ('weevil', 0.2653978),\n",
       " ('weevil', 0.24404484)]"
      ]
     },
     "execution_count": 318,
     "metadata": {},
     "output_type": "execute_result"
    }
   ],
   "source": [
    "Demyrsus_Digmon_Predictions"
   ]
  },
  {
   "cell_type": "code",
   "execution_count": null,
   "id": "eff7d20a",
   "metadata": {},
   "outputs": [],
   "source": [
    "\n",
    "    "
   ]
  },
  {
   "cell_type": "code",
   "execution_count": null,
   "id": "feb4870c",
   "metadata": {},
   "outputs": [],
   "source": []
  },
  {
   "cell_type": "code",
   "execution_count": 312,
   "id": "d2f27406",
   "metadata": {},
   "outputs": [],
   "source": []
  },
  {
   "cell_type": "code",
   "execution_count": null,
   "id": "562c8636",
   "metadata": {},
   "outputs": [],
   "source": []
  },
  {
   "cell_type": "code",
   "execution_count": null,
   "id": "68f05469",
   "metadata": {},
   "outputs": [],
   "source": []
  },
  {
   "cell_type": "code",
   "execution_count": null,
   "id": "e8609b86",
   "metadata": {},
   "outputs": [],
   "source": []
  },
  {
   "cell_type": "code",
   "execution_count": null,
   "id": "e33817f0",
   "metadata": {},
   "outputs": [],
   "source": []
  },
  {
   "cell_type": "code",
   "execution_count": null,
   "id": "6ad41a0e",
   "metadata": {},
   "outputs": [],
   "source": []
  },
  {
   "cell_type": "markdown",
   "id": "b25b2d1e",
   "metadata": {},
   "source": [
    "### Demyrsus Meleoides"
   ]
  },
  {
   "cell_type": "code",
   "execution_count": 89,
   "id": "72d003b0",
   "metadata": {},
   "outputs": [],
   "source": [
    "Demyrsus_Meleoides_file = os.listdir('./Demyrsus meleoides')"
   ]
  },
  {
   "cell_type": "code",
   "execution_count": 90,
   "id": "fc917c6a",
   "metadata": {},
   "outputs": [],
   "source": [
    "Demyrsus_Meleoides_copy  = []\n",
    "for file_name in Demyrsus_Meleoides_file:\n",
    "    if file_name.endswith('.JPG') or file_name.endswith('.tif') or file_name.endswith(\".jpeg\"):\n",
    "        Demyrsus_Meleoides_copy.append(file_name)\n",
    "        \n"
   ]
  },
  {
   "cell_type": "code",
   "execution_count": 91,
   "id": "ceee6481",
   "metadata": {},
   "outputs": [],
   "source": [
    "Demyrsus_Meleoides_images = []\n",
    "for names in Demyrsus_Meleoides_copy:\n",
    "    Demyrsus_Meleoides_images.append(image.load_img(\"Demyrsus meleoides/\"+names, target_size = (224,224)))"
   ]
  },
  {
   "cell_type": "code",
   "execution_count": 320,
   "id": "9d7bafeb",
   "metadata": {},
   "outputs": [],
   "source": [
    "Demyrsus_Meleoides_Predictions = []\n",
    "for i in range(len(Demyrsus_Meleoides_images)):\n",
    "    Demyrsus_Meleoides = image.img_to_array(Demyrsus_Meleoides_images[i])\n",
    "    Demyrsus_Meleoides = preprocess_input(Demyrsus_Meleoides[np.newaxis,...])\n",
    "    Demyrsus_Meleoides_predictions = model.predict(Demyrsus_Meleoides)\n",
    "    Demyrsus_Meleoides_decodes = decode_predictions(Demyrsus_Meleoides_predictions, top = 1)\n",
    "    Demyrsus_Meleoides_Predictions.append(Demyrsus_Meleoides_decodes[0][0][1:])\n",
    "Demyrsus_Meleoides_Predictions.sort(key = lambda x: x[1], reverse= True)"
   ]
  },
  {
   "cell_type": "code",
   "execution_count": 323,
   "id": "b8ac65f6",
   "metadata": {},
   "outputs": [
    {
     "data": {
      "text/plain": [
       "[('weevil', 0.9993011),\n",
       " ('weevil', 0.999265),\n",
       " ('weevil', 0.9987889),\n",
       " ('weevil', 0.99847835),\n",
       " ('weevil', 0.9982779),\n",
       " ('weevil', 0.9982646),\n",
       " ('weevil', 0.9966186),\n",
       " ('weevil', 0.9957194),\n",
       " ('weevil', 0.99514776),\n",
       " ('weevil', 0.9947354),\n",
       " ('weevil', 0.9922954),\n",
       " ('weevil', 0.99228173),\n",
       " ('weevil', 0.9920512),\n",
       " ('weevil', 0.9907464),\n",
       " ('weevil', 0.9897049),\n",
       " ('weevil', 0.98731405),\n",
       " ('weevil', 0.9810827),\n",
       " ('weevil', 0.98026687),\n",
       " ('weevil', 0.9796712),\n",
       " ('weevil', 0.9791197),\n",
       " ('weevil', 0.97649527),\n",
       " ('weevil', 0.96351177),\n",
       " ('weevil', 0.9632376),\n",
       " ('weevil', 0.9628537),\n",
       " ('weevil', 0.95448923),\n",
       " ('weevil', 0.94452775),\n",
       " ('dung_beetle', 0.9390946),\n",
       " ('weevil', 0.93522996),\n",
       " ('weevil', 0.93500286),\n",
       " ('weevil', 0.93148845),\n",
       " ('weevil', 0.92636067),\n",
       " ('weevil', 0.9256199),\n",
       " ('weevil', 0.92432487),\n",
       " ('weevil', 0.92032593),\n",
       " ('weevil', 0.9170354),\n",
       " ('weevil', 0.9124067),\n",
       " ('weevil', 0.9106904),\n",
       " ('weevil', 0.9076919),\n",
       " ('weevil', 0.90148294),\n",
       " ('weevil', 0.88835317),\n",
       " ('weevil', 0.880395),\n",
       " ('weevil', 0.87935585),\n",
       " ('weevil', 0.8592488),\n",
       " ('weevil', 0.8574091),\n",
       " ('weevil', 0.8565845),\n",
       " ('weevil', 0.85637134),\n",
       " ('weevil', 0.8411241),\n",
       " ('weevil', 0.83906066),\n",
       " ('weevil', 0.82978874),\n",
       " ('rhinoceros_beetle', 0.8194952),\n",
       " ('weevil', 0.81308067),\n",
       " ('weevil', 0.7808828),\n",
       " ('dung_beetle', 0.7722222),\n",
       " ('weevil', 0.74671453),\n",
       " ('long-horned_beetle', 0.7244357),\n",
       " ('weevil', 0.68185985),\n",
       " ('weevil', 0.6436342),\n",
       " ('weevil', 0.5999473),\n",
       " ('weevil', 0.51825863),\n",
       " ('weevil', 0.50204533),\n",
       " ('dung_beetle', 0.49547407),\n",
       " ('Komodo_dragon', 0.4814235),\n",
       " ('ground_beetle', 0.47336408),\n",
       " ('screw', 0.47074234),\n",
       " ('weevil', 0.42795023),\n",
       " ('pot', 0.41467252),\n",
       " ('bow_tie', 0.4006149),\n",
       " ('screw', 0.3963174),\n",
       " ('teapot', 0.35510704),\n",
       " ('rhinoceros_beetle', 0.24396223),\n",
       " ('tick', 0.16326328),\n",
       " ('weevil', 0.15253316),\n",
       " ('muzzle', 0.13402341)]"
      ]
     },
     "execution_count": 323,
     "metadata": {},
     "output_type": "execute_result"
    }
   ],
   "source": [
    "Demyrsus_Meleoides_Predictions"
   ]
  },
  {
   "cell_type": "code",
   "execution_count": null,
   "id": "edc0b30f",
   "metadata": {},
   "outputs": [],
   "source": []
  },
  {
   "cell_type": "markdown",
   "id": "c44c8e99",
   "metadata": {},
   "source": [
    "### Siraton internatus"
   ]
  },
  {
   "cell_type": "code",
   "execution_count": 94,
   "id": "62db505b",
   "metadata": {},
   "outputs": [],
   "source": [
    "Siraton_internatus_file = os.listdir('./Siraton internatus')"
   ]
  },
  {
   "cell_type": "code",
   "execution_count": 96,
   "id": "0b91a5d9",
   "metadata": {},
   "outputs": [],
   "source": [
    "Siraton_internatus_copy  = []\n",
    "for file_name in Siraton_internatus_file:\n",
    "    if file_name.endswith('.JPG') or file_name.endswith('.tif') or file_name.endswith(\".jpeg\"):\n",
    "        Siraton_internatus_copy.append(file_name)"
   ]
  },
  {
   "cell_type": "code",
   "execution_count": 100,
   "id": "dbf1d84a",
   "metadata": {},
   "outputs": [
    {
     "data": {
      "text/plain": [
       "99"
      ]
     },
     "execution_count": 100,
     "metadata": {},
     "output_type": "execute_result"
    }
   ],
   "source": [
    "len(Siraton_internatus_copy)"
   ]
  },
  {
   "cell_type": "code",
   "execution_count": 98,
   "id": "cd81a008",
   "metadata": {},
   "outputs": [],
   "source": [
    "Siraton_internatus_images = []\n",
    "for names in Siraton_internatus_copy:\n",
    "    Siraton_internatus_images.append(image.load_img(\"Siraton internatus/\"+names, target_size = (224,224)))"
   ]
  },
  {
   "cell_type": "code",
   "execution_count": 327,
   "id": "e8a69e2e",
   "metadata": {},
   "outputs": [],
   "source": [
    "Siraton_internatus_Predictions = []\n",
    "for i in range(len(Siraton_internatus_images)):\n",
    "    Siraton_internatus = image.img_to_array(Siraton_internatus_images[i])\n",
    "    Siraton_internatus = preprocess_input(Siraton_internatus[np.newaxis,...])\n",
    "    Siraton_internatus_predictions = model.predict(Siraton_internatus)\n",
    "    Siraton_internatus_decodes = decode_predictions(Siraton_internatus_predictions, top = 1)\n",
    "    Siraton_internatus_Predictions.append(Siraton_internatus_decodes[0][0][1:])\n",
    "Siraton_internatus_Predictions.sort(key = lambda x: x[1], reverse= True)\n",
    "#     print(Siraton_internatus_copy[i], \" = \", Siraton_internatus_decodes[0][0][1:])"
   ]
  },
  {
   "cell_type": "code",
   "execution_count": 328,
   "id": "d14c54ee",
   "metadata": {},
   "outputs": [
    {
     "name": "stdout",
     "output_type": "stream",
     "text": [
      "99\n"
     ]
    },
    {
     "data": {
      "text/plain": [
       "[('weevil', 0.9992706),\n",
       " ('weevil', 0.99327904),\n",
       " ('weevil', 0.99316835),\n",
       " ('weevil', 0.99306655),\n",
       " ('weevil', 0.9928141),\n",
       " ('weevil', 0.9927129),\n",
       " ('weevil', 0.9913061),\n",
       " ('weevil', 0.9885642),\n",
       " ('weevil', 0.9874945),\n",
       " ('weevil', 0.9873865),\n",
       " ('weevil', 0.9859235),\n",
       " ('weevil', 0.98462784),\n",
       " ('weevil', 0.9826218),\n",
       " ('weevil', 0.98158735),\n",
       " ('weevil', 0.9814596),\n",
       " ('weevil', 0.9783119),\n",
       " ('weevil', 0.9776202),\n",
       " ('weevil', 0.9747644),\n",
       " ('weevil', 0.9736491),\n",
       " ('weevil', 0.9704883),\n",
       " ('weevil', 0.96994287),\n",
       " ('weevil', 0.96767443),\n",
       " ('weevil', 0.9657674),\n",
       " ('weevil', 0.9614044),\n",
       " ('weevil', 0.9578883),\n",
       " ('weevil', 0.95769715),\n",
       " ('weevil', 0.9573987),\n",
       " ('weevil', 0.9572725),\n",
       " ('weevil', 0.94775075),\n",
       " ('weevil', 0.94624996),\n",
       " ('weevil', 0.94144),\n",
       " ('weevil', 0.9369905),\n",
       " ('weevil', 0.93624705),\n",
       " ('weevil', 0.9320002),\n",
       " ('weevil', 0.92838293),\n",
       " ('weevil', 0.926541),\n",
       " ('weevil', 0.9230209),\n",
       " ('weevil', 0.9204848),\n",
       " ('weevil', 0.91739273),\n",
       " ('weevil', 0.9168697),\n",
       " ('weevil', 0.9155637),\n",
       " ('weevil', 0.9124765),\n",
       " ('weevil', 0.91230035),\n",
       " ('weevil', 0.90791744),\n",
       " ('weevil', 0.9026871),\n",
       " ('weevil', 0.89986837),\n",
       " ('weevil', 0.8978824),\n",
       " ('weevil', 0.8923314),\n",
       " ('weevil', 0.87502414),\n",
       " ('weevil', 0.86078656),\n",
       " ('weevil', 0.8587112),\n",
       " ('weevil', 0.8569744),\n",
       " ('weevil', 0.84560686),\n",
       " ('weevil', 0.83739036),\n",
       " ('weevil', 0.83346003),\n",
       " ('weevil', 0.8295286),\n",
       " ('weevil', 0.82940286),\n",
       " ('weevil', 0.8151328),\n",
       " ('weevil', 0.80180085),\n",
       " ('weevil', 0.800478),\n",
       " ('ground_beetle', 0.7803879),\n",
       " ('long-horned_beetle', 0.7565991),\n",
       " ('weevil', 0.754571),\n",
       " ('weevil', 0.75345665),\n",
       " ('weevil', 0.74961215),\n",
       " ('weevil', 0.7479875),\n",
       " ('weevil', 0.7469174),\n",
       " ('weevil', 0.7272529),\n",
       " ('weevil', 0.7255683),\n",
       " ('weevil', 0.71631944),\n",
       " ('weevil', 0.71550155),\n",
       " ('weevil', 0.7135223),\n",
       " ('weevil', 0.7131544),\n",
       " ('weevil', 0.6717161),\n",
       " ('weevil', 0.6444588),\n",
       " ('weevil', 0.6357943),\n",
       " ('weevil', 0.6185563),\n",
       " ('weevil', 0.6038144),\n",
       " ('weevil', 0.5963603),\n",
       " ('weevil', 0.59146684),\n",
       " ('weevil', 0.56031334),\n",
       " ('weevil', 0.5521249),\n",
       " ('weevil', 0.5383977),\n",
       " ('weevil', 0.5383977),\n",
       " ('dung_beetle', 0.5353436),\n",
       " ('weevil', 0.5240733),\n",
       " ('weevil', 0.503712),\n",
       " ('weevil', 0.49516293),\n",
       " ('weevil', 0.49136347),\n",
       " ('weevil', 0.47705567),\n",
       " ('rhinoceros_beetle', 0.46168828),\n",
       " ('weevil', 0.44237825),\n",
       " ('screw', 0.41952673),\n",
       " ('ground_beetle', 0.41766164),\n",
       " ('dung_beetle', 0.39523834),\n",
       " ('isopod', 0.30790862),\n",
       " ('dung_beetle', 0.2998453),\n",
       " ('weevil', 0.26014024),\n",
       " ('screw', 0.24550118)]"
      ]
     },
     "execution_count": 328,
     "metadata": {},
     "output_type": "execute_result"
    }
   ],
   "source": [
    "print(len(Siraton_internatus_Predictions))\n",
    "Siraton_internatus_Predictions\n"
   ]
  },
  {
   "cell_type": "markdown",
   "id": "4fd80840",
   "metadata": {},
   "source": [
    "# Siraton roei"
   ]
  },
  {
   "cell_type": "code",
   "execution_count": 103,
   "id": "1562ce98",
   "metadata": {},
   "outputs": [],
   "source": [
    "Siraton_roei_file = os.listdir('./Siraton roei')"
   ]
  },
  {
   "cell_type": "code",
   "execution_count": 104,
   "id": "5fa0b3b6",
   "metadata": {},
   "outputs": [],
   "source": [
    "Siraton_roei_copy  = []\n",
    "for file_name in Siraton_roei_file:\n",
    "    if file_name.endswith('.JPG') or file_name.endswith('.tif') or file_name.endswith(\".jpeg\"):\n",
    "        Siraton_roei_copy.append(file_name)"
   ]
  },
  {
   "cell_type": "code",
   "execution_count": 105,
   "id": "7f0631e6",
   "metadata": {},
   "outputs": [
    {
     "data": {
      "text/plain": [
       "12"
      ]
     },
     "execution_count": 105,
     "metadata": {},
     "output_type": "execute_result"
    }
   ],
   "source": [
    "len(Siraton_roei_copy)"
   ]
  },
  {
   "cell_type": "code",
   "execution_count": 106,
   "id": "feb8ecab",
   "metadata": {},
   "outputs": [],
   "source": [
    "Siraton_roei_images = []\n",
    "for names in Siraton_roei_copy:\n",
    "    Siraton_roei_images.append(image.load_img(\"Siraton roei/\"+names, target_size = (224,224)))"
   ]
  },
  {
   "cell_type": "code",
   "execution_count": 329,
   "id": "909522ea",
   "metadata": {},
   "outputs": [],
   "source": [
    "Siraton_Roei_Predictions = []\n",
    "for i in range(len(Siraton_roei_images)):\n",
    "    Siraton_roei= image.img_to_array(Siraton_roei_images[i])\n",
    "    Siraton_roei = preprocess_input(Siraton_roei[np.newaxis,...])\n",
    "    Siraton_roei_predictions = model.predict(Siraton_roei)\n",
    "    Siraton_roei_decodes = decode_predictions(Siraton_roei_predictions, top = 1)\n",
    "    Siraton_Roei_Predictions.append(Siraton_roei_decodes[0][0][1:])\n",
    "Siraton_Roei_Predictions.sort(key = lambda x: x[1], reverse= True)   "
   ]
  },
  {
   "cell_type": "code",
   "execution_count": 331,
   "id": "0b4e62a2",
   "metadata": {},
   "outputs": [
    {
     "name": "stdout",
     "output_type": "stream",
     "text": [
      "12\n"
     ]
    },
    {
     "data": {
      "text/plain": [
       "[('weevil', 0.95574945),\n",
       " ('weevil', 0.95154107),\n",
       " ('weevil', 0.86583126),\n",
       " ('weevil', 0.84554774),\n",
       " ('weevil', 0.828933),\n",
       " ('weevil', 0.7952927),\n",
       " ('weevil', 0.78294915),\n",
       " ('weevil', 0.76064754),\n",
       " ('weevil', 0.7171066),\n",
       " ('leaf_beetle', 0.70723283),\n",
       " ('leaf_beetle', 0.31056318),\n",
       " ('weevil', 0.2683591)]"
      ]
     },
     "execution_count": 331,
     "metadata": {},
     "output_type": "execute_result"
    }
   ],
   "source": [
    "\n",
    "print(len(Siraton_Roei_Predictions))\n",
    "Siraton_Roei_Predictions"
   ]
  },
  {
   "cell_type": "code",
   "execution_count": null,
   "id": "8e118fa6",
   "metadata": {},
   "outputs": [],
   "source": []
  }
 ],
 "metadata": {
  "kernelspec": {
   "display_name": "Python 3",
   "language": "python",
   "name": "python3"
  },
  "language_info": {
   "codemirror_mode": {
    "name": "ipython",
    "version": 3
   },
   "file_extension": ".py",
   "mimetype": "text/x-python",
   "name": "python",
   "nbconvert_exporter": "python",
   "pygments_lexer": "ipython3",
   "version": "3.7.7"
  }
 },
 "nbformat": 4,
 "nbformat_minor": 5
}
